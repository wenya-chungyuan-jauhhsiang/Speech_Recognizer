{
 "cells": [
  {
   "cell_type": "markdown",
   "metadata": {},
   "source": [
    "<center>\n",
    "<table align=\"center\">\n",
    "    <tr>\n",
    "        <td bgcolor=Lavender style=\"text-align:center\">\n",
    "            <font size=\"10\" color=RoyalBlue >\n",
    "            <b>期末專案 — 當前進度報告\n",
    "            </font>\n",
    "        </td>\n",
    "    </tr>\n",
    "</table>\n",
    "</center>\n"
   ]
  },
  {
   "cell_type": "markdown",
   "metadata": {},
   "source": [
    "# 主題：語音訊號辨識與應用\n",
    "# 組員：R07522717林温雅、R07522821許鐘元、R07522749藍兆祥"
   ]
  },
  {
   "cell_type": "markdown",
   "metadata": {},
   "source": [
    "# Table of contents\n",
    "- Dataset\n",
    "- 目標一\n",
    "    * 實作方法\n",
    "- 目標二\n",
    "    * 實作方法\n",
    "- 甘特圖（專案排程 & 目前進度）"
   ]
  },
  {
   "cell_type": "markdown",
   "metadata": {},
   "source": [
    "## Dataset：[pannous on github](https://github.com/pannous/tensorflow-speech-recognition?fbclid=IwAR1tThhKhbMM_BnKE4SK16qcbuGdw1gJw7iWVVyEhDk9vZFF5Z8E6rjuWUs)\n",
    "\n",
    "- 連結內spoken_numbers_pcm.tar含2400筆.wav檔，為15位不同人唸英文數字0~9的單數字音檔。  \n",
    "- 初期使用2100筆作為training data、300筆作為validation data  \n",
    "- 預計新增三位組員各100筆data作為最後testing評判結果之Data。"
   ]
  },
  {
   "cell_type": "markdown",
   "metadata": {},
   "source": [
    "`音檔Demo`"
   ]
  },
  {
   "cell_type": "code",
   "execution_count": 1,
   "metadata": {},
   "outputs": [
    {
     "data": {
      "text/html": [
       "\n",
       "                <audio controls=\"controls\" >\n",
       "                    <source src=\"data:audio/x-wav;base64,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\" type=\"audio/x-wav\" />\n",
       "                    Your browser does not support the audio element.\n",
       "                </audio>\n",
       "              "
      ],
      "text/plain": [
       "<IPython.lib.display.Audio object>"
      ]
     },
     "execution_count": 1,
     "metadata": {},
     "output_type": "execute_result"
    }
   ],
   "source": [
    "import IPython.display as ipd\n",
    "ipd.Audio('8_Samantha_140.wav')"
   ]
  },
  {
   "cell_type": "markdown",
   "metadata": {},
   "source": [
    "<center>\n",
    "<table align=\"center\">\n",
    "    <tr>\n",
    "        <td style=\"text-align:center\">\n",
    "            <font size=\"6\">\n",
    "            <b>目標一\n",
    "            </font>\n",
    "        </td>\n",
    "    </tr>\n",
    "</table>\n",
    "</center>\n",
    "\n",
    "\n",
    "\n",
    "- 使用者對麥克風説一串英文數字(0~9)，程式能辨識使用者說了哪些數字  \n",
    "- 舉例：使用者對麥克風說”Three - Nine - Seven”，程式能辨識使用者說了3-9-7\n",
    "- 呈現方式：GUI介面\n",
    "\n",
    "\n",
    "<img src=\"demo.png\" alt=\"demo\" title=\"demo\" width=\"600\"/>\n",
    "<center>示意圖</center>"
   ]
  },
  {
   "cell_type": "markdown",
   "metadata": {},
   "source": [
    "# 實作方法\n",
    "\n",
    "( Preprocessing是因最後目標希望程式能一次處理使用者連環唸許多數字，而dataset的資料都是一個字一個音檔的，故2.與3.不需等1.完成才開始進行 )\n",
    "\n",
    "\n",
    "1. Preprocessing \n",
    "    * 因使用者會唸不只一個數字，將相鄰的字切開\n",
    "    * 藉由判斷silent的方式將音檔切成只包含一個數字的子音檔\n",
    "    * 將各個子音檔分別送入下面會介紹到的CNN及RNN模型\n",
    "    \n",
    "    \n",
    "2. Spectrogram + CNN\n",
    "    * 製作Spectrum，使用librosa套件製作音檔之CQT-Spectrum與STFT-Spectrum（傅立葉頻譜）\n",
    "    * 建立CNN模型\n",
    "    * 分別使用兩種不同Spectrum圖訓練CNN模型\n",
    "    \n",
    "    \n",
    "3. MFCC + RNN\n",
    "    * 音訊前處理－MFCC\n",
    "       MFCC(Mel-Frequency Cepstral Coefficients)是一個短時間內的頻域特徵。其運作原理是將音檔按時間分為許多小段，再對每一小段進行FFT，之後再透過梅爾濾波器擷取特徵，最後由DFIT得到倒頻譜圖之幅度即為MFCC。其優點是將聲音頻率變化轉化為較符合人類聽覺的模式，在語音辨識中很常使用。  \n",
    "        我們可以透過librosa中的feature.mfcc指令來實現mfcc處理，讀入音檔後將其輸出為一600維的資料。\n",
    "    * RNN模型建構，以LSTM建構RNN模型\n",
    "    * 使用MFCC資料訓練RNN模型"
   ]
  },
  {
   "cell_type": "markdown",
   "metadata": {},
   "source": [
    "<center>\n",
    "<table align=\"center\">\n",
    "    <tr>\n",
    "        <td style=\"text-align:center\">\n",
    "            <font size=\"6\">\n",
    "            <b>目標二\n",
    "            </font>\n",
    "        </td>\n",
    "    </tr>\n",
    "</table>\n",
    "</center>\n",
    "\n",
    "- 使用生成對抗網路GAN來生成音檔，即讓程式產出英文數字0~9的音檔"
   ]
  },
  {
   "cell_type": "markdown",
   "metadata": {},
   "source": [
    "# 實作方法\n",
    "\n",
    "- 目前先利用inverse spectrogram的方式\n",
    "- 以目前結果來說，高機率無法成功產生能聽的音檔，目標二不一定能實現"
   ]
  },
  {
   "cell_type": "markdown",
   "metadata": {},
   "source": [
    "<center>\n",
    "<table align=\"center\">\n",
    "    <tr>\n",
    "        <td style=\"text-align:center\">\n",
    "            <font size=\"6\">\n",
    "            <b>甘特圖\n",
    "            </font>\n",
    "        </td>\n",
    "    </tr>\n",
    "</table>\n",
    "</center>\n",
    "\n",
    "<img src=\"gantt.png\" alt=\"gantt\" title=\"gantt\" width=\"1200\"/>"
   ]
  }
 ],
 "metadata": {
  "kernelspec": {
   "display_name": "Python 3",
   "language": "python",
   "name": "python3"
  },
  "language_info": {
   "codemirror_mode": {
    "name": "ipython",
    "version": 3
   },
   "file_extension": ".py",
   "mimetype": "text/x-python",
   "name": "python",
   "nbconvert_exporter": "python",
   "pygments_lexer": "ipython3",
   "version": "3.6.7"
  }
 },
 "nbformat": 4,
 "nbformat_minor": 2
}
